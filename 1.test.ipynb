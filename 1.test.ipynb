{
 "cells": [
  {
   "cell_type": "code",
   "execution_count": 1,
   "metadata": {},
   "outputs": [],
   "source": [
    "import pandas as pd\n",
    "import os\n",
    "\n",
    "\n",
    "df_raw = pd.read_csv(\"./data/ETT/ETTh1.csv\")\n",
    "\n",
    "seq_len = 96\n",
    "\n",
    "border1s = [0, 12 * 30 * 24 - seq_len, 12 * 30 * 24 + 4 * 30 * 24 - seq_len]\n",
    "border2s = [12 * 30 * 24, 12 * 30 * 24 + 4 * 30 * 24, 12 * 30 * 24 + 8 * 30 * 24]"
   ]
  },
  {
   "cell_type": "code",
   "execution_count": 4,
   "metadata": {},
   "outputs": [
    {
     "data": {
      "text/plain": [
       "([0, 8544, 11424], [8640, 11520, 14400])"
      ]
     },
     "execution_count": 4,
     "metadata": {},
     "output_type": "execute_result"
    }
   ],
   "source": [
    "border1s, border2s\n"
   ]
  },
  {
   "cell_type": "code",
   "execution_count": 5,
   "metadata": {},
   "outputs": [
    {
     "name": "stdout",
     "output_type": "stream",
     "text": [
      "物理CPU核心数量: 8\n",
      "逻辑CPU核心数量: 16\n"
     ]
    }
   ],
   "source": [
    "import psutil\n",
    "\n",
    "# 获取物理CPU核心数量\n",
    "physical_cpu_count = psutil.cpu_count(logical=False)\n",
    "\n",
    "# 获取逻辑CPU核心数量\n",
    "logical_cpu_count = psutil.cpu_count(logical=True)\n",
    "\n",
    "print(f\"物理CPU核心数量: {physical_cpu_count}\")\n",
    "print(f\"逻辑CPU核心数量: {logical_cpu_count}\")"
   ]
  }
 ],
 "metadata": {
  "kernelspec": {
   "display_name": "torch",
   "language": "python",
   "name": "python3"
  },
  "language_info": {
   "codemirror_mode": {
    "name": "ipython",
    "version": 3
   },
   "file_extension": ".py",
   "mimetype": "text/x-python",
   "name": "python",
   "nbconvert_exporter": "python",
   "pygments_lexer": "ipython3",
   "version": "3.8.18"
  }
 },
 "nbformat": 4,
 "nbformat_minor": 2
}
